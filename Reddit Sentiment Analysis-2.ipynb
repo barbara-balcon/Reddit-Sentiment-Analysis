{
 "cells": [
  {
   "cell_type": "markdown",
   "metadata": {},
   "source": [
    "# Obtaining Reddit data: accessing the Reddit API\n",
    "The first preliminary step to performing any kind of sentiment analysis on Reddit data is establishing a **Reddit instance** via **API**. This can be done with the **Python Reddit API Wrapper (PRAW)**, see documentation: https://praw.readthedocs.io/en/latest/\n",
    "\n",
    "In order to access the API, a **Reddit account** is needed, login details below.\n",
    "> E-mail: barbara.balcon@studbocconi.it\n",
    "Username: thesis_3078976\n",
    "Password: class_of_2021\n",
    "\n",
    "I created an **application** at the following link: https://www.reddit.com/prefs/apps\n",
    "> - Name: Sentiment Analysis\n",
    "I selected 'script' (Script for personal use. Will only have access to the developers accounts\n",
    "description)\n",
    "- Description: Data will be used to perform sentiment analysis\n",
    "- About url: blank\n",
    "- Redirect url: http://www.example.com/unused/redirect/url (this is empty)\n",
    "\n",
    "After creating the app, the following is generated.\n",
    "> ID: L_wWPUNiMBmn1Q  \n",
    "Secret: bUYKyV21W3xXK4GzXsY5tsNzpG3pRw\n",
    "\n"
   ]
  },
  {
   "cell_type": "code",
   "execution_count": 1,
   "metadata": {},
   "outputs": [],
   "source": [
    "#import of the relevant libraries \n",
    "import praw\n",
    "import pandas as pd\n",
    "from praw.models import MoreComments"
   ]
  },
  {
   "cell_type": "code",
   "execution_count": 2,
   "metadata": {},
   "outputs": [],
   "source": [
    "#create a reddit connection with reddit api details\n",
    "reddit=praw.Reddit(client_id='L_wWPUNiMBmn1Q', client_secret='bUYKyV21W3xXK4GzXsY5tsNzpG3pRw', user_agent='ua')"
   ]
  },
  {
   "cell_type": "markdown",
   "metadata": {},
   "source": [
    "The following pulls the **five hottest posts** in the subreddit wallstreetbets, printing the title and ID of each. This step is for illustrating purposes only and does *not* feed into the sentiment analysis performed later."
   ]
  },
  {
   "cell_type": "code",
   "execution_count": 3,
   "metadata": {},
   "outputs": [
    {
     "name": "stdout",
     "output_type": "stream",
     "text": [
      "Weekend Discussion Thread for the Weekend of April 01, 2021\n",
      "Submission ID =  mi3t1v \n",
      "\n",
      "i'm about to YOLO my $800k life savings on starbucks gift cards, what are the tax implications ??\n",
      "Submission ID =  mjy92g \n",
      "\n",
      "The phone numbers and personal data of over 553 million Facebook users have been published online for free\n",
      "Submission ID =  mjllx5 \n",
      "\n",
      "Institutions in GME increased 2% than Last month & RC owns 4 times more shares than George\n",
      "Submission ID =  mjrc0t \n",
      "\n",
      "GME DD on April 2020 similarities to today\n",
      "Submission ID =  mjf7mg \n",
      "\n"
     ]
    }
   ],
   "source": [
    "subreddit=reddit.subreddit('wallstreetbets')\n",
    "for submission in subreddit.hot(limit=5):\n",
    "    print(submission.title)\n",
    "    print('Submission ID = ', submission.id, '\\n')"
   ]
  },
  {
   "cell_type": "markdown",
   "metadata": {},
   "source": [
    "# Storing the data: creating a SQL server and database\n",
    "\n",
    "## Download, installation and setup of MySQL\n",
    "\n",
    "I am about to collect data in a **SQL database**, I use **MySQL** as a database management system. In a nutshell I installed and set up MySQL on my machine (off-Python).\n",
    "\n",
    "First, I **downloaded** the free version (Community Server, for macOS) of MySQL from the official website: https://dev.mysql.com/downloads/mysql/\n",
    "I proceeded to **install** it using the wizard and to set up a password. I **started the server** in the MySQL panel in System preferences.\n",
    "\n",
    "I also downloaded and installed **MySQL Shell**, again from the official website: https://dev.mysql.com/downloads/shell/\n",
    "\n",
    "In order to use MySQL from the Terminal, I typed the following:  \n",
    "`cd /usr/local/mysql/bin/; ls`  \n",
    "and pressed Enter\n",
    "\n",
    "Then:  \n",
    "`./mysql -u root -p`    \n",
    "pressed Enter and input the password when prompted to.\n",
    "\n",
    "This turns the Terminal into a **MySQL Monitor: all SQL commands now work**. More of this in subsequent steps."
   ]
  },
  {
   "cell_type": "markdown",
   "metadata": {},
   "source": [
    "## Connecting to the server and creating a database\n",
    "Getting back to the code, in the cell below we:\n",
    "- import a package to deal with SQL;\n",
    "- connect to the server;\n",
    "- create a database: reddit_data;\n",
    "- create a table within the database: reddit_data_sentiment.\n",
    "\n",
    "A **server** can contain one or more **databases**, and each can store **tables** (just one of each in our case). The tables consist of **rows** and **columns**, columns are different characteristics of a post (author, body, etc.) and each row represents a post in r/wallstreetbets.\n",
    "\n",
    "As of now, the server is hosted *locally* on my machine (hence host: localhost). The username (root) is default, while the password was set when installing MySQL."
   ]
  },
  {
   "cell_type": "code",
   "execution_count": 9,
   "metadata": {},
   "outputs": [],
   "source": [
    "import mysql.connector #importing the Python package to use MySQL\n",
    "import datetime \n",
    "import time #packages for handling date and time data\n",
    "\n",
    "#below I am connecting to the server I have started on my machine\n",
    "mydb=mysql.connector.connect(host='localhost', \n",
    "                             user='root',\n",
    "                            passwd='class_of_2021')\n",
    "\n",
    "mycursor=mydb.cursor()\n",
    "\n",
    "#creation of a database for storing reddit data \n",
    "mycursor.execute('CREATE DATABASE IF NOT EXISTS reddit_data')\n",
    "\n",
    "#creating variables we are about to create instances of when analysing sentiment\n",
    "#each is a column in the database\n",
    "#they are all stored int he only tab le in the database, reddit_data_sentiment\n",
    "mycursor.execute(\"\"\"CREATE TABLE IF NOT EXISTS reddit_data.reddit_data_sentiment\n",
    "                (date_time DATETIME,\n",
    "                subreddit VARCHAR(500),\n",
    "                title VARCHAR(500),        \n",
    "                body VARCHAR(2000),\n",
    "                author VARCHAR(500),\n",
    "                sentiment DECIMAL(5,4)  \n",
    "                )\n",
    "                \"\"\")\n",
    "\n",
    "#pushing the data to the database (we will use this variable in the next code snippet)\n",
    "sqlFormula = \"INSERT INTO reddit_data.reddit_data_sentiment (date_time, subreddit, title, body, author, sentiment) VALUES (%s, %s, %s, %s, %s, %s)\"\n"
   ]
  },
  {
   "cell_type": "markdown",
   "metadata": {},
   "source": [
    "# Performing post sentiment analysis and storing the results\n",
    "\n",
    "## Introduction to VADER\n",
    "Now we are ready to **live stream** comments from Reddit and perform sentiment analysis via **VADER** (Valence Aware Dictionary and sEntiment Reasoner). It is an open-source tool that was designed for social media specifically. It is lexicon and rule-based. \n",
    "See: \n",
    "> Hutto, C.J. & Gilbert, E.E. (2014). *VADER: A Parsimonious Rule-based Model for Sentiment Analysis of Social Media Text.* Eighth International Conference on Weblogs and Social Media (ICWSM-14). Ann Arbor, MI, June 2014.\n",
    "\n",
    "It returns a **polarity score (-1, +1)** for each post: a normalized, weighted composite score that acts as a metric of the overall sentiment of a given post.  \n",
    "\n",
    "## Storing the data in the database\n",
    "In the *while* loop, we are **populating the table** in the SQL database we created earlier with data streamed from the Reddit API. For each post, we include:\n",
    "- current date and time;\n",
    "- subreddit (wallstreetbets);\n",
    "- title;\n",
    "- body;\n",
    "- compound sentiment score."
   ]
  },
  {
   "cell_type": "code",
   "execution_count": null,
   "metadata": {},
   "outputs": [
    {
     "name": "stdout",
     "output_type": "stream",
     "text": [
      "1406 (22001): Data too long for column 'body' at row 1\n",
      "1406 (22001): Data too long for column 'body' at row 1\n",
      "1406 (22001): Data too long for column 'body' at row 1\n",
      "1406 (22001): Data too long for column 'body' at row 1\n",
      "1406 (22001): Data too long for column 'body' at row 1\n",
      "1406 (22001): Data too long for column 'body' at row 1\n",
      "1406 (22001): Data too long for column 'body' at row 1\n",
      "1406 (22001): Data too long for column 'body' at row 1\n",
      "1406 (22001): Data too long for column 'body' at row 1\n",
      "1406 (22001): Data too long for column 'body' at row 1\n",
      "1406 (22001): Data too long for column 'body' at row 1\n"
     ]
    }
   ],
   "source": [
    "from vaderSentiment.vaderSentiment import SentimentIntensityAnalyzer\n",
    "analyzer= SentimentIntensityAnalyzer() #just an abbreviation \n",
    "from unidecode import unidecode #a package for dealing with Unicode\n",
    "\n",
    "while True:\n",
    "    try:\n",
    "        \n",
    "        subreddit = reddit.subreddit('wallstreetbets')\n",
    "        for comment in subreddit.stream.comments(skip_existing=True):\n",
    "                current_time = datetime.datetime.now()\n",
    "                subreddit = str(comment.subreddit)\n",
    "                author = str(comment.author)\n",
    "                title = str(comment.link_title)\n",
    "                body = str(comment.body)\n",
    "                if len(body) < 2000:\n",
    "                    body = body\n",
    "                elif len(body) > 2000:\n",
    "                    body = \"data is too large\"\n",
    "                \n",
    "                vs = analyzer.polarity_scores(unidecode(body))\n",
    "                sentiment = vs['compound'] #we are interested in the compound score\n",
    "                db = (current_time,subreddit,title,body,author,sentiment)\n",
    "                mycursor.execute(sqlFormula, db)\n",
    "                mydb.commit()\n",
    "\n",
    "    except Exception as e:\n",
    "        print(str(e))\n",
    "        time.sleep(10)\n",
    "'''We keep an exception so that in case of error we do not hit\n",
    "the API multiple times''' "
   ]
  },
  {
   "cell_type": "markdown",
   "metadata": {},
   "source": [
    "# Inspecting the results in the shell\n",
    "\n",
    "We can use **MySQL Shell** (which we have already activated in the Terminal) to check that the data has indeed been stored. To do so, we go back to the Terminal and we input the following (note that SQl commands end with ;):\n",
    "\n",
    "`show databases;`   \n",
    "This will return all databases in the Terminal, including reddit_data.\n",
    "\n",
    "`use reddit_data;`  \n",
    "This will 'activate' the database, so that the following commands will be executed in reddit_data.\n",
    "\n",
    "`select * from reddit_data_sentiment;`  \n",
    "This returns all of the content of the reddit_data_sentiment table (note that * means 'everything' in SQL).\n",
    "\n",
    "As of now, everything is running smoothly."
   ]
  }
 ],
 "metadata": {
  "kernelspec": {
   "display_name": "Python 3",
   "language": "python",
   "name": "python3"
  }
 },
 "nbformat": 4,
 "nbformat_minor": 2
}
